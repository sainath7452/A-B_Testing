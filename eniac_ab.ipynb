{
 "cells": [
  {
   "cell_type": "code",
   "execution_count": 2,
   "metadata": {},
   "outputs": [],
   "source": [
    "import pandas as pd\n",
    "import numpy as np\n",
    "from scipy import stats\n",
    "import seaborn as sns"
   ]
  },
  {
   "cell_type": "markdown",
   "metadata": {},
   "source": [
    "### State the Null Hypothesis and the Alternative Hypothesis."
   ]
  },
  {
   "cell_type": "markdown",
   "metadata": {},
   "source": [
    "**Null Hypothesis:** Any deviation in website performance is just due to chance<br><br>\n",
    "**Alternative Hypothesis:** Deviations are not due to chance and it's likely the differences in the buttons impacted user behavior"
   ]
  },
  {
   "cell_type": "markdown",
   "metadata": {},
   "source": [
    "### Set alpha"
   ]
  },
  {
   "cell_type": "code",
   "execution_count": 3,
   "metadata": {},
   "outputs": [],
   "source": [
    "alpha = 0.1"
   ]
  },
  {
   "cell_type": "markdown",
   "metadata": {},
   "source": [
    "### Gather the Data"
   ]
  },
  {
   "cell_type": "code",
   "execution_count": 4,
   "metadata": {},
   "outputs": [],
   "source": [
    "a = pd.read_csv(\"eniac_a.csv\")\n",
    "b = pd.read_csv(\"eniac_b.csv\")\n",
    "c = pd.read_csv(\"eniac_c.csv\")\n",
    "d = pd.read_csv(\"eniac_d.csv\")"
   ]
  },
  {
   "cell_type": "code",
   "execution_count": 5,
   "metadata": {},
   "outputs": [
    {
     "data": {
      "text/plain": [
       "'created 2021-09-14   •   14 days 0 hours 34 mins   •   25326 visits, 23174 clicks'"
      ]
     },
     "execution_count": 5,
     "metadata": {},
     "output_type": "execute_result"
    }
   ],
   "source": [
    "# This cell in the data frames contains info about the number of visits\n",
    "a.iloc[1, -1]"
   ]
  },
  {
   "cell_type": "code",
   "execution_count": 6,
   "metadata": {},
   "outputs": [],
   "source": [
    "a.iloc[1, -1] #getting number of visits\n",
    "a_visits = 25326"
   ]
  },
  {
   "cell_type": "code",
   "execution_count": 7,
   "metadata": {},
   "outputs": [],
   "source": [
    "b.iloc[1, -1] #getting number of visits\n",
    "b_visits = 24747"
   ]
  },
  {
   "cell_type": "code",
   "execution_count": 8,
   "metadata": {},
   "outputs": [],
   "source": [
    "c.iloc[1, -1] #getting number of visits\n",
    "c_visits = 24876"
   ]
  },
  {
   "cell_type": "code",
   "execution_count": 9,
   "metadata": {},
   "outputs": [],
   "source": [
    "d.iloc[1, -1] #getting number of visits\n",
    "d_visits = 25233"
   ]
  },
  {
   "cell_type": "code",
   "execution_count": 10,
   "metadata": {},
   "outputs": [],
   "source": [
    "visits = [a_visits, b_visits, c_visits, d_visits]"
   ]
  },
  {
   "cell_type": "code",
   "execution_count": 11,
   "metadata": {},
   "outputs": [],
   "source": [
    "a_clicks = a.loc[a['Name']=='SHOP NOW', 'No. clicks'].item()\n",
    "b_clicks = b.loc[b['Name']=='SHOP NOW', 'No. clicks'].item()\n",
    "c_clicks = c.loc[c['Name']=='SEE DEALS', 'No. clicks'].item()\n",
    "d_clicks = d.loc[d['Name']=='SEE DEALS', 'No. clicks'].item()\n",
    "clicked = [a_clicks, b_clicks, c_clicks, d_clicks]"
   ]
  },
  {
   "cell_type": "code",
   "execution_count": 12,
   "metadata": {},
   "outputs": [
    {
     "data": {
      "text/html": [
       "<div>\n",
       "<style scoped>\n",
       "    .dataframe tbody tr th:only-of-type {\n",
       "        vertical-align: middle;\n",
       "    }\n",
       "\n",
       "    .dataframe tbody tr th {\n",
       "        vertical-align: top;\n",
       "    }\n",
       "\n",
       "    .dataframe thead th {\n",
       "        text-align: right;\n",
       "    }\n",
       "</style>\n",
       "<table border=\"1\" class=\"dataframe\">\n",
       "  <thead>\n",
       "    <tr style=\"text-align: right;\">\n",
       "      <th></th>\n",
       "      <th>Version_A</th>\n",
       "      <th>Version_B</th>\n",
       "      <th>Version_C</th>\n",
       "      <th>Version_D</th>\n",
       "    </tr>\n",
       "  </thead>\n",
       "  <tbody>\n",
       "    <tr>\n",
       "      <th>Click</th>\n",
       "      <td>512</td>\n",
       "      <td>281</td>\n",
       "      <td>527</td>\n",
       "      <td>193</td>\n",
       "    </tr>\n",
       "    <tr>\n",
       "      <th>No-click</th>\n",
       "      <td>24814</td>\n",
       "      <td>24466</td>\n",
       "      <td>24349</td>\n",
       "      <td>25040</td>\n",
       "    </tr>\n",
       "  </tbody>\n",
       "</table>\n",
       "</div>"
      ],
      "text/plain": [
       "          Version_A  Version_B  Version_C  Version_D\n",
       "Click           512        281        527        193\n",
       "No-click      24814      24466      24349      25040"
      ]
     },
     "execution_count": 12,
     "metadata": {},
     "output_type": "execute_result"
    }
   ],
   "source": [
    "# Using a range like this allow you to grab elements from the same position in different lists\n",
    "no_click = [visits[i] - clicked[i] for i in range(len(clicked))]\n",
    "\n",
    "observed_results = pd.DataFrame(data = [clicked, no_click],\n",
    "                                columns = [\"Version_A\", \"Version_B\", \"Version_C\", \"Version_D\"],\n",
    "                                index = [\"Click\", \"No-click\"])\n",
    "observed_results"
   ]
  },
  {
   "cell_type": "markdown",
   "metadata": {},
   "source": [
    "### Calculate the Result"
   ]
  },
  {
   "cell_type": "code",
   "execution_count": 13,
   "metadata": {},
   "outputs": [],
   "source": [
    "chisq, pvalue, df, expected = stats.chi2_contingency(observed_results)"
   ]
  },
  {
   "cell_type": "markdown",
   "metadata": {},
   "source": [
    "### Interpret the Result"
   ]
  },
  {
   "cell_type": "code",
   "execution_count": 14,
   "metadata": {},
   "outputs": [
    {
     "name": "stdout",
     "output_type": "stream",
     "text": [
      "Reject the null hypothesis\n"
     ]
    }
   ],
   "source": [
    "if pvalue > alpha:\n",
    "  print(\"Do not reject the null hypothesis\")\n",
    "else:\n",
    "  print(\"Reject the null hypothesis\")"
   ]
  },
  {
   "cell_type": "markdown",
   "metadata": {},
   "source": [
    "### Checking CTRs"
   ]
  },
  {
   "cell_type": "code",
   "execution_count": 15,
   "metadata": {},
   "outputs": [
    {
     "data": {
      "text/html": [
       "<div>\n",
       "<style scoped>\n",
       "    .dataframe tbody tr th:only-of-type {\n",
       "        vertical-align: middle;\n",
       "    }\n",
       "\n",
       "    .dataframe tbody tr th {\n",
       "        vertical-align: top;\n",
       "    }\n",
       "\n",
       "    .dataframe thead th {\n",
       "        text-align: right;\n",
       "    }\n",
       "</style>\n",
       "<table border=\"1\" class=\"dataframe\">\n",
       "  <thead>\n",
       "    <tr style=\"text-align: right;\">\n",
       "      <th></th>\n",
       "      <th>CTR</th>\n",
       "    </tr>\n",
       "  </thead>\n",
       "  <tbody>\n",
       "    <tr>\n",
       "      <th>A</th>\n",
       "      <td>0.020216</td>\n",
       "    </tr>\n",
       "    <tr>\n",
       "      <th>B</th>\n",
       "      <td>0.011355</td>\n",
       "    </tr>\n",
       "    <tr>\n",
       "      <th>C</th>\n",
       "      <td>0.021185</td>\n",
       "    </tr>\n",
       "    <tr>\n",
       "      <th>D</th>\n",
       "      <td>0.007649</td>\n",
       "    </tr>\n",
       "  </tbody>\n",
       "</table>\n",
       "</div>"
      ],
      "text/plain": [
       "        CTR\n",
       "A  0.020216\n",
       "B  0.011355\n",
       "C  0.021185\n",
       "D  0.007649"
      ]
     },
     "execution_count": 15,
     "metadata": {},
     "output_type": "execute_result"
    }
   ],
   "source": [
    "ctr_ls = []\n",
    "for i in range(len(clicked)):\n",
    "    ctr = clicked[i]/visits[i]\n",
    "    ctr_ls.append(ctr)\n",
    "\n",
    "# Alternatively this could be done with a list comprehension\n",
    "# ctr_ls = [clicked[i]/visits[i] for i in range(len(clicked))]\n",
    "\n",
    "ctrs = pd.DataFrame({\"CTR\":ctr_ls}, \n",
    "                    index=['A', 'B', 'C', 'D'])\n",
    "ctrs"
   ]
  },
  {
   "cell_type": "markdown",
   "metadata": {},
   "source": [
    "### Post-Hoc\n",
    "\n",
    "6 combinations:<br>\n",
    "* Version A - Version B\n",
    "* Version A - Version C\n",
    "* Version A - Version D\n",
    "* Version B - Version C\n",
    "* Version B - Version D\n",
    "* Version C - Version D"
   ]
  },
  {
   "cell_type": "code",
   "execution_count": 16,
   "metadata": {},
   "outputs": [],
   "source": [
    "post_hoc_alpha = alpha/6"
   ]
  },
  {
   "cell_type": "code",
   "execution_count": 17,
   "metadata": {},
   "outputs": [
    {
     "data": {
      "text/html": [
       "<div>\n",
       "<style scoped>\n",
       "    .dataframe tbody tr th:only-of-type {\n",
       "        vertical-align: middle;\n",
       "    }\n",
       "\n",
       "    .dataframe tbody tr th {\n",
       "        vertical-align: top;\n",
       "    }\n",
       "\n",
       "    .dataframe thead th {\n",
       "        text-align: right;\n",
       "    }\n",
       "</style>\n",
       "<table border=\"1\" class=\"dataframe\">\n",
       "  <thead>\n",
       "    <tr style=\"text-align: right;\">\n",
       "      <th></th>\n",
       "      <th>Version_A</th>\n",
       "      <th>Version_B</th>\n",
       "      <th>Version_C</th>\n",
       "      <th>Version_D</th>\n",
       "    </tr>\n",
       "  </thead>\n",
       "  <tbody>\n",
       "    <tr>\n",
       "      <th>Click</th>\n",
       "      <td>512</td>\n",
       "      <td>281</td>\n",
       "      <td>527</td>\n",
       "      <td>193</td>\n",
       "    </tr>\n",
       "    <tr>\n",
       "      <th>No-click</th>\n",
       "      <td>24814</td>\n",
       "      <td>24466</td>\n",
       "      <td>24349</td>\n",
       "      <td>25040</td>\n",
       "    </tr>\n",
       "  </tbody>\n",
       "</table>\n",
       "</div>"
      ],
      "text/plain": [
       "          Version_A  Version_B  Version_C  Version_D\n",
       "Click           512        281        527        193\n",
       "No-click      24814      24466      24349      25040"
      ]
     },
     "execution_count": 17,
     "metadata": {},
     "output_type": "execute_result"
    }
   ],
   "source": [
    "observed_results"
   ]
  },
  {
   "cell_type": "code",
   "execution_count": 18,
   "metadata": {},
   "outputs": [
    {
     "data": {
      "text/html": [
       "<div>\n",
       "<style scoped>\n",
       "    .dataframe tbody tr th:only-of-type {\n",
       "        vertical-align: middle;\n",
       "    }\n",
       "\n",
       "    .dataframe tbody tr th {\n",
       "        vertical-align: top;\n",
       "    }\n",
       "\n",
       "    .dataframe thead th {\n",
       "        text-align: right;\n",
       "    }\n",
       "</style>\n",
       "<table border=\"1\" class=\"dataframe\">\n",
       "  <thead>\n",
       "    <tr style=\"text-align: right;\">\n",
       "      <th></th>\n",
       "      <th>Version_A</th>\n",
       "      <th>Version_B</th>\n",
       "      <th>Version_C</th>\n",
       "      <th>Version_D</th>\n",
       "    </tr>\n",
       "  </thead>\n",
       "  <tbody>\n",
       "    <tr>\n",
       "      <th>Version_A</th>\n",
       "      <td>False</td>\n",
       "      <td>True</td>\n",
       "      <td>False</td>\n",
       "      <td>True</td>\n",
       "    </tr>\n",
       "    <tr>\n",
       "      <th>Version_B</th>\n",
       "      <td>True</td>\n",
       "      <td>False</td>\n",
       "      <td>True</td>\n",
       "      <td>True</td>\n",
       "    </tr>\n",
       "    <tr>\n",
       "      <th>Version_C</th>\n",
       "      <td>False</td>\n",
       "      <td>True</td>\n",
       "      <td>False</td>\n",
       "      <td>True</td>\n",
       "    </tr>\n",
       "    <tr>\n",
       "      <th>Version_D</th>\n",
       "      <td>True</td>\n",
       "      <td>True</td>\n",
       "      <td>True</td>\n",
       "      <td>False</td>\n",
       "    </tr>\n",
       "  </tbody>\n",
       "</table>\n",
       "</div>"
      ],
      "text/plain": [
       "           Version_A  Version_B  Version_C  Version_D\n",
       "Version_A      False       True      False       True\n",
       "Version_B       True      False       True       True\n",
       "Version_C      False       True      False       True\n",
       "Version_D       True       True       True      False"
      ]
     },
     "execution_count": 18,
     "metadata": {},
     "output_type": "execute_result"
    }
   ],
   "source": [
    "# Creating empty dictionary to fill with the test results\n",
    "stat_significant_dict = {\n",
    "                        \"Version_A\": [],\n",
    "                        \"Version_B\": [],\n",
    "                        \"Version_C\": [],\n",
    "                        \"Version_D\": []\n",
    "                         }\n",
    "\n",
    "# Compare each version to each other version\n",
    "for i in observed_results.columns:\n",
    "  for j in observed_results.columns:\n",
    "    # Using scipy to find the p-value of each pair\n",
    "    chisq, pvalue, df, expected = stats.chi2_contingency(observed_results.loc[:, [i, j]])\n",
    "    # If the p-value is lower than alpha, our result is statistically significant\n",
    "    stat_significant_dict[i].append(pvalue < post_hoc_alpha)\n",
    "\n",
    "stat_significant_df = pd.DataFrame(stat_significant_dict,\n",
    "                                   index=observed_results.columns)\n",
    "\n",
    "stat_significant_df"
   ]
  },
  {
   "cell_type": "markdown",
   "metadata": {},
   "source": [
    "### Checking minimum detectable effect threshold"
   ]
  },
  {
   "cell_type": "code",
   "execution_count": 28,
   "metadata": {},
   "outputs": [
    {
     "name": "stdout",
     "output_type": "stream",
     "text": [
      "There was a 4.79% difference in click through rates\n"
     ]
    }
   ],
   "source": [
    "a_ctr = ctrs.iloc[0, 0]\n",
    "c_ctr = ctrs.iloc[2, 0]\n",
    "print(f\"There was a {round(100*(c_ctr-a_ctr) / a_ctr, 2)}% difference in click through rates\")"
   ]
  }
 ],
 "metadata": {
  "kernelspec": {
   "display_name": "Python 3",
   "language": "python",
   "name": "python3"
  },
  "language_info": {
   "codemirror_mode": {
    "name": "ipython",
    "version": 3
   },
   "file_extension": ".py",
   "mimetype": "text/x-python",
   "name": "python",
   "nbconvert_exporter": "python",
   "pygments_lexer": "ipython3",
   "version": "3.11.7"
  }
 },
 "nbformat": 4,
 "nbformat_minor": 2
}
